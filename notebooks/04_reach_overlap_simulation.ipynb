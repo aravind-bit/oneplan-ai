{
 "cells": [
  {
   "cell_type": "markdown",
   "id": "e880642f-4870-44c1-9b4a-7f16d0e46675",
   "metadata": {},
   "source": [
    "# 04 Reach Overlap Simulation\n",
    "Estimate deduplicated (unique) audience reach across channels given\n",
    "spend allocations, CPMs, and overlap matrix.\n",
    "Outputs a function `deduped_reach()` for later optimization."
   ]
  },
  {
   "cell_type": "code",
   "execution_count": 14,
   "id": "35e3fb07-9878-4b77-90dd-43bba22e72c0",
   "metadata": {},
   "outputs": [
    {
     "name": "stdout",
     "output_type": "stream",
     "text": [
      "Campaign: (1825, 12) Overlap: (10, 3)\n"
     ]
    },
    {
     "data": {
      "text/html": [
       "<div>\n",
       "<style scoped>\n",
       "    .dataframe tbody tr th:only-of-type {\n",
       "        vertical-align: middle;\n",
       "    }\n",
       "\n",
       "    .dataframe tbody tr th {\n",
       "        vertical-align: top;\n",
       "    }\n",
       "\n",
       "    .dataframe thead th {\n",
       "        text-align: right;\n",
       "    }\n",
       "</style>\n",
       "<table border=\"1\" class=\"dataframe\">\n",
       "  <thead>\n",
       "    <tr style=\"text-align: right;\">\n",
       "      <th></th>\n",
       "      <th>ch_i</th>\n",
       "      <th>ch_j</th>\n",
       "      <th>overlap_rate</th>\n",
       "    </tr>\n",
       "  </thead>\n",
       "  <tbody>\n",
       "    <tr>\n",
       "      <th>0</th>\n",
       "      <td>LinearTV</td>\n",
       "      <td>Streaming</td>\n",
       "      <td>0.199</td>\n",
       "    </tr>\n",
       "    <tr>\n",
       "      <th>1</th>\n",
       "      <td>LinearTV</td>\n",
       "      <td>YouTube</td>\n",
       "      <td>0.115</td>\n",
       "    </tr>\n",
       "    <tr>\n",
       "      <th>2</th>\n",
       "      <td>LinearTV</td>\n",
       "      <td>Display</td>\n",
       "      <td>0.099</td>\n",
       "    </tr>\n",
       "    <tr>\n",
       "      <th>3</th>\n",
       "      <td>LinearTV</td>\n",
       "      <td>Social</td>\n",
       "      <td>0.086</td>\n",
       "    </tr>\n",
       "    <tr>\n",
       "      <th>4</th>\n",
       "      <td>Streaming</td>\n",
       "      <td>YouTube</td>\n",
       "      <td>0.283</td>\n",
       "    </tr>\n",
       "  </tbody>\n",
       "</table>\n",
       "</div>"
      ],
      "text/plain": [
       "        ch_i       ch_j  overlap_rate\n",
       "0   LinearTV  Streaming         0.199\n",
       "1   LinearTV    YouTube         0.115\n",
       "2   LinearTV    Display         0.099\n",
       "3   LinearTV     Social         0.086\n",
       "4  Streaming    YouTube         0.283"
      ]
     },
     "execution_count": 14,
     "metadata": {},
     "output_type": "execute_result"
    }
   ],
   "source": [
    "import pandas as pd, numpy as np\n",
    "import matplotlib.pyplot as plt\n",
    "import seaborn as sns\n",
    "\n",
    "campaign = pd.read_csv(\"../data/processed/campaign_daily_processed.csv\")\n",
    "overlap_df = pd.read_csv(\"../data/raw/overlap_matrix.csv\")\n",
    "print(\"Campaign:\", campaign.shape, \"Overlap:\", overlap_df.shape)\n",
    "campaign.head()\n",
    "overlap_df.head()"
   ]
  },
  {
   "cell_type": "code",
   "execution_count": 15,
   "id": "3e4c61cb-0547-4ec4-897b-027581ee44aa",
   "metadata": {},
   "outputs": [],
   "source": [
    "def reach_from_impressions(impressions, A=1.0, k=1e-7):\n",
    "    \"\"\"Convert impressions → fractional audience reach.\"\"\"\n",
    "    return A * (1 - np.exp(-k * impressions))"
   ]
  },
  {
   "cell_type": "code",
   "execution_count": 16,
   "id": "3903915f-cf7d-46de-9602-f811a658b05d",
   "metadata": {},
   "outputs": [],
   "source": [
    "def deduped_reach(spend_dict, cpm_dict, overlap_df, A=1.0, k=1e-7):\n",
    "    \"\"\"\n",
    "    Estimate total deduped reach (fraction of audience) for a spend allocation.\n",
    "\n",
    "    spend_dict:  {'Streaming': 300000, ...}\n",
    "    cpm_dict:    {'Streaming': 18, ...}\n",
    "    overlap_df:  DataFrame with ch_i, ch_j, overlap_rate\n",
    "    \"\"\"\n",
    "    channels = list(spend_dict.keys())\n",
    "    reach_each = {}\n",
    "\n",
    "    # individual reach fractions\n",
    "    for ch in channels:\n",
    "        impressions = (spend_dict[ch] / cpm_dict[ch]) * 1000\n",
    "        reach_each[ch] = reach_from_impressions(impressions, A, k)\n",
    "\n",
    "    # total raw reach\n",
    "    total = sum(reach_each.values())\n",
    "\n",
    "    # subtract pairwise overlaps\n",
    "    for _, row in overlap_df.iterrows():\n",
    "        ci, cj, ov = row\n",
    "        if ci in reach_each and cj in reach_each:\n",
    "            total -= ov * min(reach_each[ci], reach_each[cj])\n",
    "\n",
    "    # ensure not negative or >1\n",
    "    return np.clip(total, 0, A)"
   ]
  },
  {
   "cell_type": "code",
   "execution_count": 17,
   "id": "5f7103a3-3f86-4289-9b7b-97be768bf340",
   "metadata": {},
   "outputs": [
    {
     "name": "stdout",
     "output_type": "stream",
     "text": [
      "Estimated deduped reach fraction: 0.800\n",
      "Unique audience reached (~people): 800,000\n"
     ]
    }
   ],
   "source": [
    "channels = [\"LinearTV\",\"Streaming\",\"YouTube\",\"Display\",\"Social\"]\n",
    "cpm_dict = {\n",
    "    \"LinearTV\":25,\"Streaming\":18,\"YouTube\":12,\"Display\":8,\"Social\":6\n",
    "}\n",
    "\n",
    "# Example baseline spend distribution\n",
    "spend_test = {\n",
    "    \"LinearTV\": 300000,\n",
    "    \"Streaming\": 250000,\n",
    "    \"YouTube\": 150000,\n",
    "    \"Display\": 100000,\n",
    "    \"Social\": 200000\n",
    "}\n",
    "\n",
    "R = deduped_reach(spend_test, cpm_dict, overlap_df, A=0.8, k=1e-7)\n",
    "print(f\"Estimated deduped reach fraction: {R:.3f}\")\n",
    "print(f\"Unique audience reached (~people): {R*1_000_000:,.0f}\")"
   ]
  },
  {
   "cell_type": "code",
   "execution_count": 19,
   "id": "5d56507b-75eb-4a0f-9b49-1e43565028fe",
   "metadata": {},
   "outputs": [
    {
     "data": {
      "image/png": "[encoded data removed]",
      "text/plain": [
       "<Figure size 800x500 with 1 Axes>"
      ]
     },
     "metadata": {},
     "output_type": "display_data"
    }
   ],
   "source": [
    "total_budget = np.linspace(100000, 2_000_000, 20)\n",
    "deduped_reaches = []\n",
    "\n",
    "for b in total_budget:\n",
    "    # equal allocation across channels\n",
    "    sdict = {ch: b/len(channels) for ch in channels}\n",
    "    deduped_reaches.append(deduped_reach(sdict, cpm_dict, overlap_df, A=0.8, k=1e-7))\n",
    "\n",
    "plt.figure(figsize=(8,5))\n",
    "plt.plot(total_budget, np.array(deduped_reaches)*100, marker='o')\n",
    "plt.xlabel(\"Total Budget ($)\")\n",
    "plt.ylabel(\"Deduped Reach (% of target audience)\")\n",
    "plt.title(\"Total Budget vs. Deduplicated Reach (All Channels)\")\n",
    "plt.show()"
   ]
  },
  {
   "cell_type": "code",
   "execution_count": 20,
   "id": "7bdb6e33-c01d-48fe-bb8b-a23a0993520e",
   "metadata": {},
   "outputs": [
    {
     "name": "stdout",
     "output_type": "stream",
     "text": [
      "Saved reach_budget_curve.csv\n"
     ]
    }
   ],
   "source": [
    "reach_results = pd.DataFrame({\n",
    "    \"total_budget\": total_budget,\n",
    "    \"deduped_reach_pct\": np.array(deduped_reaches)*100\n",
    "})\n",
    "reach_results.to_csv(\"../data/processed/reach_budget_curve.csv\", index=False)\n",
    "print(\"Saved reach_budget_curve.csv\")"
   ]
  },
  {
   "cell_type": "code",
   "execution_count": null,
   "id": "584643be-da81-4800-8978-dd0274e1cf50",
   "metadata": {},
   "outputs": [],
   "source": []
  }
 ],
 "metadata": {
  "kernelspec": {
   "display_name": "Python 3 (ipykernel)",
   "language": "python",
   "name": "python3"
  },
  "language_info": {
   "codemirror_mode": {
    "name": "ipython",
    "version": 3
   },
   "file_extension": ".py",
   "mimetype": "text/x-python",
   "name": "python",
   "nbconvert_exporter": "python",
   "pygments_lexer": "ipython3",
   "version": "3.12.7"
  }
 },
 "nbformat": 4,
 "nbformat_minor": 5
}
