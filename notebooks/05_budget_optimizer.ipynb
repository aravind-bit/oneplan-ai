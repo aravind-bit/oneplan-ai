{
 "cells": [
  {
   "cell_type": "markdown",
   "id": "0a28fab4-1bf7-4f48-a47e-ea9bfb82357d",
   "metadata": {},
   "source": [
    "# 05 Budget Optimizer\n",
    "Use the modeled response curves and reach simulator to compute the optimal \n",
    "spend allocation across channels under budget and practical constraints."
   ]
  },
  {
   "cell_type": "code",
   "execution_count": 5,
   "id": "5bdfa5c3-56fa-4a91-8156-7c896a2620b1",
   "metadata": {},
   "outputs": [],
   "source": [
    "import numpy as np\n",
    "import pandas as pd\n",
    "from pathlib import Path\n",
    "from scipy.interpolate import interp1d\n",
    "from scipy.optimize import minimize\n",
    "\n",
    "# Channels we intend to include; we will filter to only those with curves present\n",
    "CHANNELS = [\"LinearTV\",\"Streaming\",\"YouTube\",\"Display\",\"Social\"]\n",
    "\n",
    "CURVE_DIR = Path(\"../data/processed/response_curves\")\n",
    "OVERLAP_CSV = Path(\"../data/raw/overlap_matrix.csv\")\n",
    "\n",
    "# CPMs (can tune)\n",
    "CPM = {\"LinearTV\":25,\"Streaming\":18,\"YouTube\":12,\"Display\":8,\"Social\":6}\n",
    "\n",
    "# Audience size assumption for reporting only (not required for optimization)\n",
    "AUDIENCE_SIZE = 1_000_000"
   ]
  },
  {
   "cell_type": "code",
   "execution_count": 6,
   "id": "7e97f094-2478-4d16-9ff9-58f9717d7498",
   "metadata": {},
   "outputs": [],
   "source": [
    "def reach_from_impressions(impressions, A=1.0, k=1e-7):\n",
    "    # impressions -> fractional reach of target audience\n",
    "    return A * (1.0 - np.exp(-k * impressions))\n",
    "\n",
    "def deduped_reach(spend_dict, cpm_dict, overlap_df, A=0.8, k=1e-7):\n",
    "    \"\"\"\n",
    "    spend_dict: {\"Streaming\": 250000, ...}\n",
    "    cpm_dict:   {\"Streaming\": 18, ...}\n",
    "    overlap_df: columns: ch_i, ch_j, overlap_rate\n",
    "    returns: fractional reach in [0, A]\n",
    "    \"\"\"\n",
    "    # per-channel fractional reach\n",
    "    reach_each = {}\n",
    "    for ch, spend in spend_dict.items():\n",
    "        impr = (spend / cpm_dict[ch]) * 1000.0\n",
    "        reach_each[ch] = reach_from_impressions(impr, A=A, k=k)\n",
    "\n",
    "    total = sum(reach_each.values())\n",
    "\n",
    "    # subtract pairwise overlaps (heuristic)\n",
    "    for _, row in overlap_df.iterrows():\n",
    "        ci, cj, ov = row[\"ch_i\"], row[\"ch_j\"], float(row[\"overlap_rate\"])\n",
    "        if ci in reach_each and cj in reach_each:\n",
    "            total -= ov * min(reach_each[ci], reach_each[cj])\n",
    "\n",
    "    # clamp\n",
    "    return float(np.clip(total, 0.0, A))"
   ]
  },
  {
   "cell_type": "code",
   "execution_count": 7,
   "id": "f79dd780-ef67-4211-8364-3595df0b8d3c",
   "metadata": {},
   "outputs": [
    {
     "data": {
      "text/html": [
       "<div>\n",
       "<style scoped>\n",
       "    .dataframe tbody tr th:only-of-type {\n",
       "        vertical-align: middle;\n",
       "    }\n",
       "\n",
       "    .dataframe tbody tr th {\n",
       "        vertical-align: top;\n",
       "    }\n",
       "\n",
       "    .dataframe thead th {\n",
       "        text-align: right;\n",
       "    }\n",
       "</style>\n",
       "<table border=\"1\" class=\"dataframe\">\n",
       "  <thead>\n",
       "    <tr style=\"text-align: right;\">\n",
       "      <th></th>\n",
       "      <th>ch_i</th>\n",
       "      <th>ch_j</th>\n",
       "      <th>overlap_rate</th>\n",
       "    </tr>\n",
       "  </thead>\n",
       "  <tbody>\n",
       "    <tr>\n",
       "      <th>0</th>\n",
       "      <td>LinearTV</td>\n",
       "      <td>Streaming</td>\n",
       "      <td>0.100</td>\n",
       "    </tr>\n",
       "    <tr>\n",
       "      <th>1</th>\n",
       "      <td>LinearTV</td>\n",
       "      <td>YouTube</td>\n",
       "      <td>0.228</td>\n",
       "    </tr>\n",
       "    <tr>\n",
       "      <th>2</th>\n",
       "      <td>LinearTV</td>\n",
       "      <td>Display</td>\n",
       "      <td>0.194</td>\n",
       "    </tr>\n",
       "    <tr>\n",
       "      <th>3</th>\n",
       "      <td>LinearTV</td>\n",
       "      <td>Social</td>\n",
       "      <td>0.065</td>\n",
       "    </tr>\n",
       "    <tr>\n",
       "      <th>4</th>\n",
       "      <td>Streaming</td>\n",
       "      <td>YouTube</td>\n",
       "      <td>0.214</td>\n",
       "    </tr>\n",
       "  </tbody>\n",
       "</table>\n",
       "</div>"
      ],
      "text/plain": [
       "        ch_i       ch_j  overlap_rate\n",
       "0   LinearTV  Streaming         0.100\n",
       "1   LinearTV    YouTube         0.228\n",
       "2   LinearTV    Display         0.194\n",
       "3   LinearTV     Social         0.065\n",
       "4  Streaming    YouTube         0.214"
      ]
     },
     "execution_count": 7,
     "metadata": {},
     "output_type": "execute_result"
    }
   ],
   "source": [
    "overlap_df = pd.read_csv(OVERLAP_CSV)\n",
    "overlap_df.head()"
   ]
  },
  {
   "cell_type": "code",
   "execution_count": 8,
   "id": "4f18b6db-35b2-4eb6-b514-22c609d1446f",
   "metadata": {},
   "outputs": [
    {
     "name": "stdout",
     "output_type": "stream",
     "text": [
      "Loaded channels: ['LinearTV', 'Streaming', 'YouTube', 'Display', 'Social']\n"
     ]
    }
   ],
   "source": [
    "def load_response_curve(file_path: Path) -> pd.DataFrame:\n",
    "    df = pd.read_csv(file_path)\n",
    "    # Drop accidental index columns\n",
    "    df = df.drop(columns=[c for c in df.columns if str(c).lower().startswith(\"unnamed\")], errors=\"ignore\")\n",
    "\n",
    "    # Standardize column names (lower/underscored for detection)\n",
    "    lower_map = {c.lower().strip().replace(\" \", \"_\"): c for c in df.columns}\n",
    "\n",
    "    # Detect spend\n",
    "    spend_col = None\n",
    "    for cand in (\"spend\",\"amount\",\"budget\"):\n",
    "        if cand in lower_map:\n",
    "            spend_col = lower_map[cand]\n",
    "            break\n",
    "    if spend_col is None:\n",
    "        raise ValueError(f\"{file_path.name}: cannot find spend column in {list(df.columns)}\")\n",
    "\n",
    "    # Detect best prediction column\n",
    "    # Prefer boosted (any pred_conversions_* that is not _lr), else fallback to pred_conversions_lr\n",
    "    pred_cols = [c for c in df.columns if str(c).lower().startswith(\"pred_conversions\")]\n",
    "    # pick boosted-like first\n",
    "    boosted = [c for c in pred_cols if not str(c).lower().endswith(\"_lr\")]\n",
    "    if len(boosted) >= 1:\n",
    "        pred_col = boosted[0]\n",
    "    elif \"pred_conversions_lr\" in df.columns:\n",
    "        pred_col = \"pred_conversions_lr\"\n",
    "    else:\n",
    "        # fallback: if exactly one numeric col besides spend, use it\n",
    "        numeric_cols = [c for c in df.select_dtypes(include=[np.number]).columns if c != spend_col]\n",
    "        if len(numeric_cols) == 1:\n",
    "            pred_col = numeric_cols[0]\n",
    "        else:\n",
    "            raise ValueError(f\"{file_path.name}: cannot determine prediction column; candidates={pred_cols}\")\n",
    "\n",
    "    out = df[[spend_col, pred_col]].copy()\n",
    "    out.columns = [\"spend\",\"pred_conversions\"]\n",
    "\n",
    "    # Clean\n",
    "    out[\"spend\"] = pd.to_numeric(out[\"spend\"], errors=\"coerce\")\n",
    "    out[\"pred_conversions\"] = pd.to_numeric(out[\"pred_conversions\"], errors=\"coerce\")\n",
    "    out = out.dropna(subset=[\"spend\",\"pred_conversions\"]).sort_values(\"spend\")\n",
    "    out = out.drop_duplicates(subset=[\"spend\"])\n",
    "    if len(out) < 2:\n",
    "        raise ValueError(f\"{file_path.name}: need >=2 rows for interpolation\")\n",
    "    return out\n",
    "\n",
    "# Map channels to expected filenames (snake-case)\n",
    "fname_map = {\n",
    "    \"LinearTV\": \"lineartv_response_curve.csv\",\n",
    "    \"Streaming\": \"streaming_response_curve.csv\",\n",
    "    \"YouTube\": \"youtube_response_curve.csv\",\n",
    "    \"Display\": \"display_response_curve.csv\",\n",
    "    \"Social\": \"social_response_curve.csv\",\n",
    "}\n",
    "\n",
    "resp_curves = {}\n",
    "missing = []\n",
    "\n",
    "for ch in CHANNELS:\n",
    "    f = CURVE_DIR / fname_map[ch]\n",
    "    if f.exists():\n",
    "        try:\n",
    "            resp_curves[ch] = load_response_curve(f)\n",
    "        except Exception as e:\n",
    "            print(f\"⚠️ {f.name} load problem: {e}\")\n",
    "    else:\n",
    "        missing.append((ch, f.name))\n",
    "\n",
    "if missing:\n",
    "    print(\"⚠️ Missing curve files:\")\n",
    "    for ch, fn in missing:\n",
    "        print(f\"  {ch}: {fn}\")\n",
    "\n",
    "loaded_channels = list(resp_curves.keys())\n",
    "print(\"Loaded channels:\", loaded_channels)"
   ]
  },
  {
   "cell_type": "code",
   "execution_count": 9,
   "id": "9173d7bb-7a85-4164-8c47-3ea2c7c7ea3f",
   "metadata": {},
   "outputs": [],
   "source": [
    "conv_funcs = {}\n",
    "for ch, dfc in resp_curves.items():\n",
    "    # interp1d expects increasing x\n",
    "    conv_funcs[ch] = interp1d(\n",
    "        dfc[\"spend\"].values,\n",
    "        dfc[\"pred_conversions\"].values,\n",
    "        kind=\"linear\",\n",
    "        fill_value=\"extrapolate\",\n",
    "        assume_sorted=True\n",
    "    )"
   ]
  },
  {
   "cell_type": "code",
   "execution_count": 10,
   "id": "f96fded2-9876-41bd-9570-98575386cdd8",
   "metadata": {},
   "outputs": [],
   "source": [
    "def obj_conversions(spend_vec, channels, conv_funcs):\n",
    "    spend = dict(zip(channels, spend_vec))\n",
    "    preds = [float(conv_funcs[ch](spend[ch])) for ch in channels]\n",
    "    return -np.sum(preds)  # negative for maximize\n",
    "\n",
    "def obj_reach(spend_vec, channels, cpm_dict, overlap_df):\n",
    "    spend = dict(zip(channels, spend_vec))\n",
    "    r = deduped_reach(spend, cpm_dict, overlap_df, A=0.8, k=1e-7)\n",
    "    return -float(r)"
   ]
  },
  {
   "cell_type": "code",
   "execution_count": 11,
   "id": "e53d14be-5882-4ba6-b6a2-a2280184253c",
   "metadata": {},
   "outputs": [
    {
     "name": "stdout",
     "output_type": "stream",
     "text": [
      "Optimal spend (Conversions):\n",
      "LinearTV    $200,000\n",
      "Streaming   $200,000\n",
      "YouTube     $200,000\n",
      "Display     $200,000\n",
      "Social      $200,000\n",
      "Total predicted conversions: 119.22\n"
     ]
    }
   ],
   "source": [
    "# Solve only for channels we loaded\n",
    "channels = loaded_channels\n",
    "if not channels:\n",
    "    raise RuntimeError(\"No channels loaded; export curves in Part-3 first.\")\n",
    "\n",
    "BUDGET = 1_000_000.0\n",
    "bounds = [(0.0, BUDGET)] * len(channels)\n",
    "\n",
    "def budget_con(x):  # >= 0\n",
    "    return BUDGET - float(np.sum(x))\n",
    "\n",
    "cons = ({'type':'ineq','fun': budget_con},)\n",
    "\n",
    "x0 = np.full(len(channels), BUDGET/len(channels))\n",
    "\n",
    "# --- Conversions objective ---\n",
    "res_conv = minimize(\n",
    "    obj_conversions, x0,\n",
    "    args=(channels, conv_funcs),\n",
    "    method=\"SLSQP\", bounds=bounds, constraints=cons,\n",
    "    options={'maxiter': 500, 'disp': False}\n",
    ")\n",
    "opt_spend_conv = dict(zip(channels, res_conv.x))\n",
    "opt_conv_value = -res_conv.fun\n",
    "\n",
    "print(\"Optimal spend (Conversions):\")\n",
    "for ch, v in opt_spend_conv.items():\n",
    "    print(f\"{ch:<10}  ${v:,.0f}\")\n",
    "print(f\"Total predicted conversions: {opt_conv_value:,.2f}\")"
   ]
  },
  {
   "cell_type": "code",
   "execution_count": 12,
   "id": "294ed310-d3f9-49d2-88f4-479c9d088aea",
   "metadata": {},
   "outputs": [
    {
     "name": "stdout",
     "output_type": "stream",
     "text": [
      "\n",
      "Optimal spend (Deduped Reach):\n",
      "LinearTV    $200,000\n",
      "Streaming   $200,000\n",
      "YouTube     $200,000\n",
      "Display     $200,000\n",
      "Social      $200,000\n",
      "Total deduped reach fraction: 0.800 (~800,000 people)\n"
     ]
    }
   ],
   "source": [
    "# Subset CPM dict to loaded channels\n",
    "cpm_sub = {ch: CPM[ch] for ch in channels}\n",
    "\n",
    "res_reach = minimize(\n",
    "    obj_reach, x0,\n",
    "    args=(channels, cpm_sub, overlap_df),\n",
    "    method=\"SLSQP\", bounds=bounds, constraints=cons,\n",
    "    options={'maxiter': 500, 'disp': False}\n",
    ")\n",
    "opt_spend_reach = dict(zip(channels, res_reach.x))\n",
    "opt_reach_value = -res_reach.fun\n",
    "\n",
    "print(\"\\nOptimal spend (Deduped Reach):\")\n",
    "for ch, v in opt_spend_reach.items():\n",
    "    print(f\"{ch:<10}  ${v:,.0f}\")\n",
    "print(f\"Total deduped reach fraction: {opt_reach_value:.3f} (~{opt_reach_value*AUDIENCE_SIZE:,.0f} people)\")"
   ]
  },
  {
   "cell_type": "code",
   "execution_count": 13,
   "id": "dc8115da-51f9-4b54-930b-7fcef031cf41",
   "metadata": {},
   "outputs": [
    {
     "name": "stdout",
     "output_type": "stream",
     "text": [
      "Saved: optimal_spend_conversions.csv, optimal_spend_reach.csv\n"
     ]
    }
   ],
   "source": [
    "pd.DataFrame(list(opt_spend_conv.items()), columns=[\"channel\",\"optimal_spend_conversions\"])\\\n",
    "  .to_csv(\"../data/processed/optimal_spend_conversions.csv\", index=False)\n",
    "\n",
    "pd.DataFrame(list(opt_spend_reach.items()), columns=[\"channel\",\"optimal_spend_reach\"])\\\n",
    "  .to_csv(\"../data/processed/optimal_spend_reach.csv\", index=False)\n",
    "\n",
    "print(\"Saved: optimal_spend_conversions.csv, optimal_spend_reach.csv\")"
   ]
  },
  {
   "cell_type": "code",
   "execution_count": 14,
   "id": "2b364d75-1fdb-485e-a996-4d2b99804ee4",
   "metadata": {},
   "outputs": [
    {
     "data": {
      "image/png": "[encoded data removed]",
      "text/plain": [
       "<Figure size 900x500 with 1 Axes>"
      ]
     },
     "metadata": {},
     "output_type": "display_data"
    },
    {
     "data": {
      "image/png": "[encoded data removed]",
      "text/plain": [
       "<Figure size 900x500 with 1 Axes>"
      ]
     },
     "metadata": {},
     "output_type": "display_data"
    }
   ],
   "source": [
    "import matplotlib.pyplot as plt\n",
    "\n",
    "plt.figure(figsize=(9,5))\n",
    "plt.bar(list(opt_spend_conv.keys()), list(opt_spend_conv.values()))\n",
    "plt.title(\"Optimal Spend by Channel — Conversions Objective\")\n",
    "plt.ylabel(\"USD\")\n",
    "plt.xticks(rotation=15)\n",
    "plt.tight_layout()\n",
    "plt.show()\n",
    "\n",
    "plt.figure(figsize=(9,5))\n",
    "plt.bar(list(opt_spend_reach.keys()), list(opt_spend_reach.values()))\n",
    "plt.title(\"Optimal Spend by Channel — Deduped Reach Objective\")\n",
    "plt.ylabel(\"USD\")\n",
    "plt.xticks(rotation=15)\n",
    "plt.tight_layout()\n",
    "plt.show()"
   ]
  },
  {
   "cell_type": "code",
   "execution_count": null,
   "id": "8b03444a-3a97-4011-932a-da1ed209236f",
   "metadata": {},
   "outputs": [],
   "source": []
  }
 ],
 "metadata": {
  "kernelspec": {
   "display_name": "Python 3 (ipykernel)",
   "language": "python",
   "name": "python3"
  },
  "language_info": {
   "codemirror_mode": {
    "name": "ipython",
    "version": 3
   },
   "file_extension": ".py",
   "mimetype": "text/x-python",
   "name": "python",
   "nbconvert_exporter": "python",
   "pygments_lexer": "ipython3",
   "version": "3.12.7"
  }
 },
 "nbformat": 4,
 "nbformat_minor": 5
}
